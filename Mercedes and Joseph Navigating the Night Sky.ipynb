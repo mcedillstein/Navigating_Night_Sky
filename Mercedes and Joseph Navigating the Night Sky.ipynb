{
 "cells": [
  {
   "cell_type": "code",
   "execution_count": 120,
   "metadata": {},
   "outputs": [],
   "source": [
    "import numpy as np\n",
    "import pandas as pd\n",
    "from astroplan import Observer\n",
    "from astropy import coordinates\n",
    "from astropy.coordinates import EarthLocation\n",
    "from astropy.time import Time\n",
    "from astroplan.plots import plot_airmass\n",
    "from astropy.coordinates import get_sun, get_body, get_moon\n",
    "from astroplan import moon_illumination\n",
    "from astroplan import MoonSeparationConstraint, observability_table\n",
    "import astropy.units as u\n",
    "from astroplan import AltitudeConstraint, AirmassConstraint, AtNightConstraint\n",
    "from astroplan import Constraint\n",
    "from astropy.coordinates import SkyCoord\n",
    "from astroplan import FixedTarget"
   ]
  },
  {
   "cell_type": "code",
   "execution_count": 167,
   "metadata": {},
   "outputs": [
    {
     "data": {
      "text/html": [
       "<div>\n",
       "<style scoped>\n",
       "    .dataframe tbody tr th:only-of-type {\n",
       "        vertical-align: middle;\n",
       "    }\n",
       "\n",
       "    .dataframe tbody tr th {\n",
       "        vertical-align: top;\n",
       "    }\n",
       "\n",
       "    .dataframe thead th {\n",
       "        text-align: right;\n",
       "    }\n",
       "</style>\n",
       "<table border=\"1\" class=\"dataframe\">\n",
       "  <thead>\n",
       "    <tr style=\"text-align: right;\">\n",
       "      <th></th>\n",
       "      <th>name</th>\n",
       "      <th>ra</th>\n",
       "      <th>dec</th>\n",
       "    </tr>\n",
       "  </thead>\n",
       "  <tbody>\n",
       "    <tr>\n",
       "      <th>0</th>\n",
       "      <td>WISEA J043431.62-894617.9</td>\n",
       "      <td>04 34 31.62</td>\n",
       "      <td>-89 46 17.9</td>\n",
       "    </tr>\n",
       "    <tr>\n",
       "      <th>1</th>\n",
       "      <td>WISEA J094017.96-894442.8</td>\n",
       "      <td>09 40 17.96</td>\n",
       "      <td>-89 44 42.8</td>\n",
       "    </tr>\n",
       "    <tr>\n",
       "      <th>2</th>\n",
       "      <td>WISEA J192247.55-893602.5</td>\n",
       "      <td>19 22 47.55</td>\n",
       "      <td>-89 36 02.5</td>\n",
       "    </tr>\n",
       "    <tr>\n",
       "      <th>3</th>\n",
       "      <td>WISEA J174333.00-893514.8</td>\n",
       "      <td>17 43 33.01</td>\n",
       "      <td>-89 35 14.8</td>\n",
       "    </tr>\n",
       "    <tr>\n",
       "      <th>4</th>\n",
       "      <td>WISEA J214955.49-893435.5</td>\n",
       "      <td>21 49 55.50</td>\n",
       "      <td>-89 34 35.6</td>\n",
       "    </tr>\n",
       "    <tr>\n",
       "      <th>5</th>\n",
       "      <td>WISEA J094526.46-893159.0</td>\n",
       "      <td>09 45 26.47</td>\n",
       "      <td>-89 31 59.0</td>\n",
       "    </tr>\n",
       "    <tr>\n",
       "      <th>6</th>\n",
       "      <td>WISEA J212638.23-892859.5</td>\n",
       "      <td>21 26 38.24</td>\n",
       "      <td>-89 28 59.5</td>\n",
       "    </tr>\n",
       "    <tr>\n",
       "      <th>7</th>\n",
       "      <td>WISEA J045305.39-892601.5</td>\n",
       "      <td>04 53 05.40</td>\n",
       "      <td>-89 26 01.6</td>\n",
       "    </tr>\n",
       "    <tr>\n",
       "      <th>8</th>\n",
       "      <td>WISEA J174350.23-892550.8</td>\n",
       "      <td>17 43 50.23</td>\n",
       "      <td>-89 25 50.9</td>\n",
       "    </tr>\n",
       "    <tr>\n",
       "      <th>9</th>\n",
       "      <td>WISEA J005023.03-892532.2</td>\n",
       "      <td>00 50 23.03</td>\n",
       "      <td>-89 25 32.3</td>\n",
       "    </tr>\n",
       "  </tbody>\n",
       "</table>\n",
       "</div>"
      ],
      "text/plain": [
       "   name                       ra           dec        \n",
       "0  WISEA J043431.62-894617.9  04 34 31.62  -89 46 17.9\n",
       "1  WISEA J094017.96-894442.8  09 40 17.96  -89 44 42.8\n",
       "2  WISEA J192247.55-893602.5  19 22 47.55  -89 36 02.5\n",
       "3  WISEA J174333.00-893514.8  17 43 33.01  -89 35 14.8\n",
       "4  WISEA J214955.49-893435.5  21 49 55.50  -89 34 35.6\n",
       "5  WISEA J094526.46-893159.0  09 45 26.47  -89 31 59.0\n",
       "6  WISEA J212638.23-892859.5  21 26 38.24  -89 28 59.5\n",
       "7  WISEA J045305.39-892601.5  04 53 05.40  -89 26 01.6\n",
       "8  WISEA J174350.23-892550.8  17 43 50.23  -89 25 50.9\n",
       "9  WISEA J005023.03-892532.2  00 50 23.03  -89 25 32.3"
      ]
     },
     "execution_count": 167,
     "metadata": {},
     "output_type": "execute_result"
    }
   ],
   "source": [
    "quasars=pd.read_fwf('quasars.txt', skiprows=4, delimiter='|')\n",
    "quasars[0:10]"
   ]
  },
  {
   "cell_type": "code",
   "execution_count": 122,
   "metadata": {},
   "outputs": [
    {
     "data": {
      "text/plain": [
       "<Observer: name='lco',\n",
       "    location (lon, lat, el)=(-70.70166666666665 deg, -29.003333333333327 deg, 2281.9999999994607 m),\n",
       "    timezone=<UTC>>"
      ]
     },
     "execution_count": 122,
     "metadata": {},
     "output_type": "execute_result"
    }
   ],
   "source": [
    "dupont=Observer.at_site(\"lco\")\n",
    "dupont"
   ]
  },
  {
   "cell_type": "code",
   "execution_count": 169,
   "metadata": {},
   "outputs": [
    {
     "name": "stdout",
     "output_type": "stream",
     "text": [
      "[0.88831637 0.6586472  0.43176186 0.21192157 0.07238651 0.24816147\n",
      " 0.45501737 0.65920405 0.85897168 1.05458923 1.24694396 1.43723874\n",
      " 1.6268483  1.81721446 2.00975029 2.20574009] rad\n"
     ]
    }
   ],
   "source": [
    "time=np.arange('2019-05-15', '2019-05-31', dtype='datetime64[D]')\n",
    "\n",
    "moon_ratio=dupont.moon_illumination(time)\n",
    "moon_ratio\n",
    "\n",
    "moon_phase = dupont.moon_phase(time)\n",
    "print(moon_phase)\n",
    "\n",
    "constraints = [AirmassConstraint(1.5), AtNightConstraint.twilight_astronomical()]\n"
   ]
  },
  {
   "cell_type": "code",
   "execution_count": 168,
   "metadata": {},
   "outputs": [
    {
     "data": {
      "text/plain": [
       "0    04:34:31.62 -89:46:17.9\n",
       "1    09:40:17.96 -89:44:42.8\n",
       "2    19:22:47.55 -89:36:02.5\n",
       "3    17:43:33.01 -89:35:14.8\n",
       "4    21:49:55.50 -89:34:35.6\n",
       "5    09:45:26.47 -89:31:59.0\n",
       "6    21:26:38.24 -89:28:59.5\n",
       "7    04:53:05.40 -89:26:01.6\n",
       "8    17:43:50.23 -89:25:50.9\n",
       "9    00:50:23.03 -89:25:32.3\n",
       "dtype: object"
      ]
     },
     "execution_count": 168,
     "metadata": {},
     "output_type": "execute_result"
    }
   ],
   "source": [
    "quasars.columns=[c.strip() for c in quasars.columns]\n",
    "\n",
    "coords_str=quasars['ra'].str.strip().str.replace(' ',':')+' '+quasars['dec'].str.strip().str.replace(' ',':')\n",
    "\n",
    "coord=SkyCoord(coords_str[0], unit=[u.hour,u.deg])\n",
    "coords_str[0:10]"
   ]
  },
  {
   "cell_type": "markdown",
   "metadata": {},
   "source": [
    "We ran into some complications when we trying to sort through thew data, the data hates us."
   ]
  },
  {
   "cell_type": "code",
   "execution_count": null,
   "metadata": {},
   "outputs": [],
   "source": []
  }
 ],
 "metadata": {
  "kernelspec": {
   "display_name": "Python 3",
   "language": "python",
   "name": "python3"
  },
  "language_info": {
   "codemirror_mode": {
    "name": "ipython",
    "version": 3
   },
   "file_extension": ".py",
   "mimetype": "text/x-python",
   "name": "python",
   "nbconvert_exporter": "python",
   "pygments_lexer": "ipython3",
   "version": "3.7.2"
  }
 },
 "nbformat": 4,
 "nbformat_minor": 2
}
